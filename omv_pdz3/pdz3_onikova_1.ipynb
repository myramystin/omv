{
 "cells": [
  {
   "cell_type": "markdown",
   "metadata": {
    "id": "B1gdwQWma-Rz"
   },
   "source": [
    "# Практическое ДЗ 3"
   ]
  },
  {
   "cell_type": "markdown",
   "metadata": {
    "id": "rh4FQBPlbFmd"
   },
   "source": [
    "# Задача 1. Compressed Sensing (50 баллов)"
   ]
  },
  {
   "cell_type": "code",
   "source": [
    "# Если вы на windows - скачивайте сами\n",
    "!mkdir data\n",
    "!wget https://github.com/DimaLishudi/fmatcomp/raw/main/tune.wav      -O data/tune.wav\n",
    "!wget https://github.com/DimaLishudi/fmatcomp/raw/main/crater.png    -O data/crater.png\n",
    "!wget https://github.com/DimaLishudi/fmatcomp/raw/main/cameraman.tif -O data/cameraman.tif"
   ],
   "metadata": {
    "id": "emCN9a_T76Hk",
    "pycharm": {
     "is_executing": true
    }
   },
   "execution_count": null,
   "outputs": [
    {
     "name": "stdout",
     "output_type": "stream",
     "text": [
      "mkdir: data: File exists\r\n",
      "--2023-04-07 02:42:43--  https://github.com/DimaLishudi/fmatcomp/raw/main/tune.wav\r\n",
      "Resolving github.com (github.com)... 140.82.121.4\r\n",
      "Connecting to github.com (github.com)|140.82.121.4|:443... connected.\r\n",
      "HTTP request sent, awaiting response... 302 Found\r\n",
      "Location: https://raw.githubusercontent.com/DimaLishudi/fmatcomp/main/tune.wav [following]\r\n",
      "--2023-04-07 02:42:43--  https://raw.githubusercontent.com/DimaLishudi/fmatcomp/main/tune.wav\r\n",
      "Resolving raw.githubusercontent.com (raw.githubusercontent.com)... 2606:50c0:8001::154, 2606:50c0:8000::154, 2606:50c0:8003::154, ...\r\n",
      "Connecting to raw.githubusercontent.com (raw.githubusercontent.com)|2606:50c0:8001::154|:443... failed: Operation timed out.\r\n",
      "Connecting to raw.githubusercontent.com (raw.githubusercontent.com)|2606:50c0:8000::154|:443... failed: Operation timed out.\r\n",
      "Connecting to raw.githubusercontent.com (raw.githubusercontent.com)|2606:50c0:8003::154|:443... failed: Operation timed out.\r\n",
      "Connecting to raw.githubusercontent.com (raw.githubusercontent.com)|2606:50c0:8002::154|:443... failed: Operation timed out.\r\n",
      "Connecting to raw.githubusercontent.com (raw.githubusercontent.com)|185.199.111.133|:443... connected.\r\n",
      "HTTP request sent, awaiting response... 200 OK\r\n",
      "Length: 176458 (172K) [audio/wav]\r\n",
      "Saving to: ‘data/tune.wav’\r\n",
      "\r\n",
      "data/tune.wav       100%[===================>] 172.32K  --.-KB/s    in 0.1s    \r\n",
      "\r\n",
      "2023-04-07 02:47:43 (1.55 MB/s) - ‘data/tune.wav’ saved [176458/176458]\r\n",
      "\r\n",
      "--2023-04-07 02:47:44--  https://github.com/DimaLishudi/fmatcomp/raw/main/crater.png\r\n",
      "Resolving github.com (github.com)... 140.82.121.3\r\n",
      "Connecting to github.com (github.com)|140.82.121.3|:443... connected.\r\n",
      "HTTP request sent, awaiting response... 302 Found\r\n",
      "Location: https://raw.githubusercontent.com/DimaLishudi/fmatcomp/main/crater.png [following]\r\n",
      "--2023-04-07 02:47:44--  https://raw.githubusercontent.com/DimaLishudi/fmatcomp/main/crater.png\r\n",
      "Resolving raw.githubusercontent.com (raw.githubusercontent.com)... 2606:50c0:8001::154, 2606:50c0:8000::154, 2606:50c0:8003::154, ...\r\n",
      "Connecting to raw.githubusercontent.com (raw.githubusercontent.com)|2606:50c0:8001::154|:443... "
     ]
    }
   ]
  },
  {
   "cell_type": "markdown",
   "source": [
    "В этом задании мы реализуем метод Compressed Sensing для восстановления сигнала, в котором большая часть значений отсутствует. Можете прочитать подробнее в [википедии](https://en.wikipedia.org/wiki/Compressed_sensing) или посмотреть серию коротких видео [1,](https://www.youtube.com/watch?v=EOYaKcjFa3o&list=PLVnEmTOBCgy0QFxU5kKNFOy1CIwCieSDl) [2,](https://www.youtube.com/watch?v=SbU1pahbbkc) [3.](https://www.youtube.com/watch?v=inr-nGnVc0k)"
   ],
   "metadata": {
    "id": "7EObkGmsxpSi"
   }
  },
  {
   "cell_type": "markdown",
   "source": [
    "**Обратите внимание:** <font color='red'>во всех пунктах всех задач запрещается использовать циклы.</font>"
   ],
   "metadata": {
    "id": "HtUvLOrpLQxf"
   }
  },
  {
   "cell_type": "code",
   "execution_count": null,
   "metadata": {
    "id": "gGw6O6n1e56s"
   },
   "outputs": [],
   "source": [
    "%matplotlib inline\n",
    "import numpy as np\n",
    "import matplotlib.pyplot as plt\n",
    "import scipy.ndimage\n",
    "import scipy.sparse as sparse\n",
    "import scipy.sparse.linalg as spla\n",
    "\n",
    "from IPython import display\n",
    "from scipy.io.wavfile import read as read_audio\n",
    "\n",
    "from scipy.sparse import csr_matrix\n",
    "from scipy.sparse.linalg import svds"
   ]
  },
  {
   "cell_type": "markdown",
   "source": [
    "### a. (25 баллов) Дискретное косинусное преобразование"
   ],
   "metadata": {
    "id": "DqtDiEGhTND-"
   }
  },
  {
   "cell_type": "markdown",
   "source": [
    "**Замечание:** Если вы не полностью выполните следующие два пункта, то это не повлияет на выполнение оставшейся части задачи. В следующих разделах нужно использовать библиотечные `scipy.fft.dct` и `scipy.fft.idct` с параметрами `type=2`, `norm=\"ortho\"`. **В этом разделе их использовать запрещено!**"
   ],
   "metadata": {
    "id": "bLYvuG_GolVF"
   }
  },
  {
   "cell_type": "code",
   "source": [
    "from scipy.fft import dct, idct"
   ],
   "metadata": {
    "id": "xqlVhn9QomYL"
   },
   "execution_count": null,
   "outputs": []
  },
  {
   "cell_type": "markdown",
   "source": [
    "Для работы с аудиодорожками зачастую используют дискретное преобразование Фурье (ДПФ) для перехода от времени к частотам. Однако нам будет удобнее работать с его вещественнозначным аналогом - дискретным косинусным преобразованием (ДКП). Именно это преобразование лежит в основе алгоритма сжатия JPEG.\n",
    "\n",
    "В этом задании нужно будет реализовать ДКП типа II, переводящее вектор $x \\in \\mathbb{R}^n$ в вектор $s' \\in \\mathbb{R}^n$ по правилу:\n",
    "\n",
    "$$\n",
    "    s_p = 2\\sum_{q=0}^{n-1} x_q \\cos \\left(\\frac{\\pi}{2n}p(2q + 1)\\right)\n",
    "$$\n",
    "\n",
    "То есть:\n",
    "\n",
    "$$\n",
    "    s = \\hat{D}_n x\n",
    "$$\n",
    "\n",
    "Где матрица ДКП $\\hat{D}_n$ определяется как:\n",
    "\n",
    "\\\n",
    "$$\n",
    "    \\hat{D}_n = 2\\begin{bmatrix}\n",
    "        1 & 1 & 1 & \\ldots & 1\\\\\n",
    "        \\cos \\left(\\frac{\\pi}{2n} \\cdot 1\\right) & \\cos \\left(\\frac{\\pi}{2n} \\cdot 3\\right) & \\cos \\left(\\frac{\\pi}{2n} \\cdot 5\\right) & \\ldots & \\cos \\left(\\frac{\\pi}{2n} \\cdot (2n-1)\\right)\\\\\n",
    "        \\cos \\left(2\\frac{\\pi}{2n} \\cdot 1\\right) & \\cos \\left(2\\frac{\\pi}{2n} \\cdot 3\\right) & \\cos \\left(2\\frac{\\pi}{2n} \\cdot 5\\right) & \\ldots & \\cos \\left(2\\frac{\\pi}{2n} \\cdot (2n-1)\\right)\\\\\n",
    "        \\vdots & \\vdots & \\vdots & \\ddots & \\vdots\\\\\n",
    "        \\cos \\left((n-1)\\frac{\\pi}{2n} \\cdot 1\\right) & \\cos \\left((n-1)\\frac{\\pi}{2n} \\cdot 3\\right) & \\cos \\left((n-1)\\frac{\\pi}{2n} \\cdot 5\\right) & \\ldots & \\cos \\left((n-1)\\frac{\\pi}{2n} \\cdot (2n-1)\\right)\\\\\n",
    "    \\end{bmatrix}\n",
    "$$\n",
    "\\\n",
    "Несмотря на то, что такое преобразование легко выражается матричным умножением, его сложность составляет $O(n^2)$. Тем не менее, используя БПФ, это преобразование можно выполнить за $O(n \\log n)$.\n",
    "\n",
    "\n",
    "1. **(9 баллов)** Покажите, что ДКП для вектора длины $n$ выражается с помощью сдвинутого БПФ для вектора $\\hat{x} \\in \\mathbb{R}^{2n}$:\n",
    "\n",
    "\\\n",
    "$$\n",
    "\\hat{x} = \\begin{bmatrix}\n",
    "        x_0\\\\\n",
    "        x_1\\\\\n",
    "        \\vdots\\\\\n",
    "        x_{n-1}\\\\\n",
    "        x_{n-1}\\\\\n",
    "        x_{n-2}\\\\\n",
    "        \\vdots\\\\\n",
    "        x_0\n",
    "    \\end{bmatrix}\\\\\n",
    "$$\n",
    "\n",
    "\\begin{align*}\n",
    "    s_p = \\exp\\left(\\frac{-\\pi i}{2n}p\\right)&\\sum_{q=0}^{2n-1} \\hat{x}_q \\exp\\left(\\frac{-2\\pi i}{2n}pq\\right)\n",
    "\\end{align*}"
   ],
   "metadata": {
    "id": "1rEmfeZ5TREb"
   }
  },
  {
   "cell_type": "markdown",
   "source": [
    "**Ваше решение:** ...\n",
    "По формуле Эйлера $e^{ix} = \\cos x + i\\sin x \\Rightarrow cos(x) = \\frac{1}{2}(e^{ix} + e^{-ix})$, получаем:\n",
    "\n",
    "$$\n",
    "\\cos \\left(\\frac{\\pi}{2n}p(2q+1)\\right) = \\frac{1}{2}\\left(e^{i\\frac{\\pi}{2n}p(2q+1)} + e^{-i\\frac{\\pi}{2n}p(2q+1)}\\right) = \\frac{1}{2}\\left(\\left(e^{i\\frac{\\pi}{2n}(2q+1)}\\right)^p + \\left(e^{-i\\frac{\\pi}{2n}(2q+1)}\\right)^p\\right)\n",
    "$$\n",
    "\n",
    "$$\n",
    "s_p = 2\\sum_{q=0}^{n-1} x_q \\cos \\left(\\frac{\\pi}{2n}p(2q + 1)\\right)\n",
    "= \\sum_{q=0}^{n-1} x_q \\left(e^{\\frac{\\pi i}{2n}p(2q+1)} + e^{-\\frac{\\pi i}{2n}p(2q+1)}\\right)\n",
    "= \\sum_{q=0}^{n-1} x_q e^{\\frac{\\pi i}{2n}p(2q+1)} + \\sum_{q=0}^{n-1} x_q e^{-\\frac{\\pi i}{2n}p(2q+1)}\n",
    "$$\n",
    "\n",
    "Заметим, что первая сумма соответствует БПФ на векторе $x_0, x_1, \\ldots, x_{n-1}$, а вторая сумма -- на векторе $x_{n-1}, x_{n-2}, \\ldots, x_0$.\n",
    "\n",
    "Поэтому мы можем объединить эти два БПФ в один БПФ на удвоенном векторе $\\hat{x}$, где $\\hat{x}$ -- это вектор $x$ соединенный себе же в обратном порядке с добавлением нулей:\n",
    "\n",
    "$$\n",
    "\\hat{x} = \\begin{bmatrix}\n",
    "        x_0\\\\\n",
    "        x_1\\\\\n",
    "        \\vdots\\\\\n",
    "        x_{n-1}\\\\\n",
    "        x_{n-1}\\\\\n",
    "        x_{n-2}\\\\\n",
    "        \\vdots\\\\\n",
    "        x_0\n",
    "    \\end{bmatrix}\\\\\n",
    "$$\n",
    "\n",
    "$$\n",
    "s_p = 2\\sum_{q=0}^{n-1} x_q \\cos \\left(\\frac{\\pi}{2n}p(2q + 1)\\right) + 2\\sum_{q=n}^{2n-1} x_q \\cos \\left(\\frac{\\pi}{2n}p(2q + 1)\\right)\n",
    "= \\sum_{q=0}^{n-1} x_q (\\exp(\\frac{-\\pi i}{2n}p)\\exp(\\frac{-2\\pi i}{2n}p(2q+1)) + \\exp(\\frac{\\pi i}{2n}p)\\exp(\\frac{2\\pi i}{2n}p(2q+1))) + \\sum_{q=n}^{2n-1} x_q (\\exp(\\frac{-\\pi i}{2n}p)\\exp(\\frac{-2\\pi i}{2n}p(2q+1)) + \\exp(\\frac{\\pi i}{2n}p)\\exp(\\frac{2\\pi i}{2n}p(2q+1)))\n",
    "= \\exp(\\frac{-\\pi i}{2n}p)\\sum_{q=0}^{2n-1} \\hat{x}_q \\exp(\\frac{-2\\pi i}{2n}pq),\n",
    "$$\n",
    "\n"
   ],
   "metadata": {
    "id": "EXhMPbNKUyEy"
   }
  },
  {
   "cell_type": "markdown",
   "source": [
    "Нам будет удобнее работать с нормированным ДКП (т.е. ортогональной матрицей), поэтому выходы $s_p$ поделим на нормы соответствующих строк. Несложно проверить, что столбцы (и строки) матрицы $\\hat D_n$ ортогональны. Норма первой строки равна $2\\sqrt{n}$, норма остальных -- $\\sqrt{2n}$. Поделив строки $\\hat{D}_n$ на соответствующие нормы, получим матрицу ортогонального ДКП II типа $D_n$.\n",
    "\n",
    "Далее везде работаем с ортонормированным ДКП II типа"
   ],
   "metadata": {
    "id": "37QbPh5O-_f7"
   }
  },
  {
   "cell_type": "markdown",
   "source": [
    "2. **(16 баллов)** С помощью `np.fft.fft` реализуйте нормированное ДКП II типа (соответствующее умножению $D_n x$), а также обратное преобразование (соответствующее умножению $D_n^Tx$).\n",
    "\n",
    "Аналогично `np.fft.fft`, ваша реализация должна уметь работать с массивами произвольной размерности $d$ и выполнять ДКП вдоль произвольной оси *axis* от $0$ до $d-1$. Иными словами, можно считать что на вход подаётся массив векторов, где все размерности, кроме одной, отвечают за номер вектора в массиве, а оставшаяся размерность -- за координату самого вектора. Вам может пригодиться [`np.take`](https://numpy.org/doc/stable/reference/generated/numpy.take.html), а также [broadcasting](https://numpy.org/doc/stable/user/basics.broadcasting.html). Многие функции numpy поддерживают выполнение вдоль произвольной оси *axis*, пользуйтесь этим!\n",
    "\n",
    "За решение лишь для одномерных массивов будет выставлен лишь частичный балл."
   ],
   "metadata": {
    "id": "rpouSVYwV05J"
   }
  },
  {
   "cell_type": "code",
   "source": [
    "def orth_dct(x: np.ndarray, axis: int=0):\n",
    "    \"\"\"\n",
    "        Input\n",
    "            x: np.ndarray -- (d-1)-dimensional array of sources vectors from R^{n}\n",
    "            axis: axis along which DCT should be taken\n",
    "        Output\n",
    "            s: result of normalized Discrete Cosine transform of x along specified axis\n",
    "    \"\"\"\n",
    "    arr = np.concatenate([x, np.flip(x, axis=axis)], axis=axis)\n",
    "    n = list(arr.shape)[axis]\n",
    "\n",
    "    coefs = np.exp(np.arange(n) * (-np.pi * 1j)/(n)) / np.sqrt(n)\n",
    "    coefs[0] /= np.sqrt(2)\n",
    "\n",
    "    arr1 = np.arange(len(list(arr.shape)))\n",
    "    arr1[-1], arr1[axis] = arr1[axis], arr1[-1]\n",
    "\n",
    "    fft_arr = np.fft.fft(arr, axis=axis)\n",
    "    fft_arr = np.transpose(fft_arr, arr1)\n",
    "\n",
    "    res = np.take(np.transpose(coefs * fft_arr, arr1), np.arange(n2//2), axis=axis)\n",
    "    arr2 = dct(x, axis=axis, norm=\"ortho\")\n",
    "    np.allclose(arr2, res.real)\n",
    "    return res.real"
   ],
   "metadata": {
    "id": "3jWPX6WfY20T"
   },
   "execution_count": null,
   "outputs": []
  },
  {
   "cell_type": "markdown",
   "source": [
    "Если вы всё сделали правильно, то ваша реализация должна совпадать с `scipy.fft.dct(x, type=2, norm=norm=\"ortho\", axis=...)`. Проверим:"
   ],
   "metadata": {
    "id": "ixkak_8hY3al"
   }
  },
  {
   "cell_type": "code",
   "source": [
    "noise = np.random.randn(10)\n",
    "assert np.allclose(orth_dct(noise, axis=0), dct(noise, norm=\"ortho\")), \"Incorrect DCT for 1d array\"\n",
    "\n",
    "noise = np.random.randn(4, 8, 16, 32)\n",
    "for axis in range(noise.ndim):\n",
    "    assert np.allclose(orth_dct(noise, axis=axis), dct(noise, axis=axis, norm=\"ortho\")), f\"Incorrect DCT for 4d array in axis {axis}\""
   ],
   "metadata": {
    "id": "lBVgMFh9ZNeE"
   },
   "execution_count": null,
   "outputs": []
  },
  {
   "cell_type": "markdown",
   "source": [
    "Для обратного ДКП примените действия в обратном порядке. Вам понадобится восстановить вторую половину выходов FFT -- $f \\in \\mathbb{R}^{2n}$:\n",
    "\n",
    "$$\n",
    "    f_p = \\sum_{q=0}^{2n-1} \\hat{x}_q \\exp\\left(\\frac{-2\\pi i}{2n}pq\\right)\n",
    "$$\n",
    "\n",
    "Верна следующая формула, описывающая симметрию $f$:\n",
    "\n",
    "\\\n",
    "$$\n",
    "    \\begin{bmatrix}\n",
    "        f_{n}\\\\\n",
    "        f_{n+1}\\\\\n",
    "        \\vdots\\\\\n",
    "        f_{2n-2}\\\\\n",
    "        f_{2n-1}\\\\\n",
    "    \\end{bmatrix} =\n",
    "    \\begin{bmatrix}\n",
    "        0\\\\\n",
    "        \\overline{f}_{n-1}\\\\\n",
    "        \\vdots\\\\\n",
    "        \\overline{f}_2\\\\\n",
    "        \\overline{f}_1\\\\\n",
    "    \\end{bmatrix}\n",
    "$$\n",
    "\n",
    "Это несложно доказать аналогично a.1, но вы можете пользоваться этим без доказательства."
   ],
   "metadata": {
    "id": "U8uLEdadB6W-"
   }
  },
  {
   "cell_type": "code",
   "source": [
    "def orth_idct(s: np.ndarray, axis: int=0):\n",
    "    \"\"\"\n",
    "        Input\n",
    "            s: np.ndarray -- result of normalized Discrete Cosine transform of x along specified axis\n",
    "            axis: axis along which inverse DCT should be taken\n",
    "        Output\n",
    "            x: source vector from R^{n}\n",
    "    \"\"\"\n",
    "    n = list(list(s.shape))[axis]*2\n",
    "\n",
    "    coefs = np.exp(np.arange(n) * (-np.pi * 1j)/(n)) / np.sqrt(n)\n",
    "    coefs[0] /= np.sqrt(2)\n",
    "\n",
    "    arr1 = np.arange(len(list(list(s.shape))))\n",
    "    arr1[-1], arr1[axis] = arr1[axis], arr1[-1]\n",
    "\n",
    "    arr = np.transpose(np.transpose(s, arr1) / coefs[:n//2], arr1)\n",
    "\n",
    "    arr2 = list(arr.shape)\n",
    "    arr2[axis] = 1\n",
    "\n",
    "    arr3 = np.concatenate([arr, np.zeros(arr2), np.conj(np.flip(np.take(arr, np.arange(1, n//2), axis=axis), axis=axis))], axis=axis)\n",
    "\n",
    "    return np.take(np.fft.ifft(arr3, axis=axis).real, np.arange(n//2), axis=axis).real"
   ],
   "metadata": {
    "id": "HKWmxsd8DwNl"
   },
   "execution_count": null,
   "outputs": []
  },
  {
   "cell_type": "code",
   "source": [
    "noise = np.random.randn(10)\n",
    "assert np.allclose(orth_idct(noise, axis=0), idct(noise, norm=\"ortho\")), \"Incorrect Inverse DCT for 1d array\"\n",
    "\n",
    "noise = np.random.randn(4, 8, 16, 32)\n",
    "for axis in range(noise.ndim):\n",
    "    assert np.allclose(orth_idct(noise, axis=axis), idct(noise, axis=axis, norm=\"ortho\")), f\"Incorrect Inverse DCT for 4d array in axis {axis}\""
   ],
   "metadata": {
    "id": "cWOBfbXVrQSi"
   },
   "execution_count": null,
   "outputs": []
  },
  {
   "cell_type": "markdown",
   "source": [
    "Несмотря на то, что вы реализовали ДКП за оптимальную асимптотику, такое решение всё равно проигрывает оптимизированным алгоритмам из `scipy.fft` по времени и памяти в несколько раз. В частности вы можете почитать про ДКП через ДПФ без увеличения размера массива в [классической статье.](https://ieeexplore.ieee.org/stamp/stamp.jsp?tp=&arnumber=1163351) Тем не менее такое решение даёт хорошую интуицию о связи ДКП и ДПФ. Также полезно понимать, что различные узкоспециализированные преобразования можно выразить через БПФ, которое встречается в большинстве библиотек.\n",
    "\n",
    "**Далее используйте `scipy.fft.dct` и `scipy.fft.idct` с параметром norm=\"ortho\".**"
   ],
   "metadata": {
    "id": "utM1gU6fSU5w"
   }
  },
  {
   "cell_type": "markdown",
   "source": [
    "### b. (9 баллов). Одномерный случай (звуковая волна)"
   ],
   "metadata": {
    "id": "m2RAPtdIWclC"
   }
  },
  {
   "cell_type": "markdown",
   "source": [
    "Загрузим аудиозапись:"
   ],
   "metadata": {
    "id": "SO5LLfdig7JW"
   }
  },
  {
   "cell_type": "code",
   "execution_count": null,
   "metadata": {
    "id": "-vh4ZpY2e9_2"
   },
   "outputs": [],
   "source": [
    "sample_rate, audio = read_audio(\"data/tune.wav\")\n",
    "x = audio / np.max(np.abs(audio)) # нормализуем амплитуду\n",
    "print(f\"Sample rate = {sample_rate}, total samples = {x.shape[0]}\")"
   ]
  },
  {
   "cell_type": "markdown",
   "source": [
    "Можете прослушать данную дорожку:"
   ],
   "metadata": {
    "id": "pssoyBD2shFq"
   }
  },
  {
   "cell_type": "code",
   "source": [
    "display.Audio(x, rate=sample_rate)"
   ],
   "metadata": {
    "id": "MCdwebuaru7u"
   },
   "execution_count": null,
   "outputs": []
  },
  {
   "cell_type": "markdown",
   "source": [
    "Для хранения звуковой волны записываются значения её амплитуды с частотой sample_rate Гц. То есть 1 секунда аудио соответствует sample_rate вещественных значений. В нашем случае sample_rate равен 20050 Гц (стандартом считается 40100).\n",
    "\n",
    "Визуализируем нашу волну.\n"
   ],
   "metadata": {
    "id": "qsR5KP1khf6W"
   }
  },
  {
   "cell_type": "code",
   "source": [
    "fig = plt.figure(figsize=(8,6))\n",
    "plt.plot(x)\n",
    "plt.xlabel(\"Time\")\n",
    "plt.ylabel(\"Amplitude\");"
   ],
   "metadata": {
    "id": "Zau0JZTjkGBc"
   },
   "execution_count": null,
   "outputs": []
  },
  {
   "cell_type": "markdown",
   "source": [
    "Мы изобразили, как меняется амплитуда волны в зависимости от времени. Из школьного курса физики вы можете вспомнить, что может быть очень полезно смотреть и на частоты. Для этого воспользуемся дискретным косинусным преобразованием, из предыдущего раздела.\n",
    "\n",
    "1. **(1 балл)** Используя `scipy.fft.dct` вычислите вектор частот $D_n x$, где $x$ - исходная дорожка. В каком промежутку сконцентрированы частоты?"
   ],
   "metadata": {
    "id": "kieVRKzFNPom"
   }
  },
  {
   "cell_type": "code",
   "source": [
    "# YOUR CODE HERE"
   ],
   "metadata": {
    "id": "8ZPKGW6INOsI"
   },
   "execution_count": null,
   "outputs": []
  },
  {
   "cell_type": "markdown",
   "source": [
    "В пункте (с) мы с использованием ДКП постараемся восстановить двухмерное изображение по значениям в небольшом числе пикселей. Чтобы облегчить решение двухмерной части мы сначала мотивируем действия на примере одномерной звуковой дорожки: будем хранить случайно выбранные 10% координат $w$, и обсудим, как по ним можно бы было восстановить исходную дорожку.\n",
    "\n",
    "Говоря формально: построим матрицу $P \\in \\mathbb{R}^{m \\times n}, m = \\lfloor 0.1  n \\rfloor$, причем в каждой строке и каждом столбце $P$ встречается ровно 1 единица, остальные значения равны 0. То есть $P$ - обрезанная матрица перестановки."
   ],
   "metadata": {
    "id": "LhOWDD5eBHcz"
   }
  },
  {
   "cell_type": "code",
   "source": [
    "n = x.shape[0]\n",
    "m = int(0.1 * n)\n",
    "idxs = np.random.choice(n, m, replace=False)\n",
    "P = np.zeros((m,n))\n",
    "P[np.arange(m), idxs] = np.ones(m)\n",
    "y = P @ x"
   ],
   "metadata": {
    "id": "Fj0BIqT1BICt"
   },
   "execution_count": null,
   "outputs": []
  },
  {
   "cell_type": "markdown",
   "source": [
    "Таким образом имеем:\n",
    "\\begin{align*}\n",
    "    y = &Px\\\\\n",
    "    s = &D_n x\\\\\n",
    "    y = &PD_n^T s\n",
    "\\end{align*}\n",
    "\n",
    "Можно как восстанавливать $x$ напрямую через $y$, так и решить сначала восстановить частоты $s$, а по ним однозначно получить $x$ через обратное ДКП."
   ],
   "metadata": {
    "id": "W9rrETELx1PP"
   }
  },
  {
   "cell_type": "markdown",
   "source": [
    "2. **(2 балла)** Как известно, псевдообратная матрица даёт лучшее по 2 норме решение. Вычислите $x_{pinv}=P^{+}y$ за O(mn). Распишите координаты $x_{pinv}$ и объясните почему такое решение не помогает с восстановлением $x$."
   ],
   "metadata": {
    "id": "DCyNmN15v01S"
   }
  },
  {
   "cell_type": "code",
   "source": [
    "x_pinv = # YOUR CODE HERE"
   ],
   "metadata": {
    "id": "lwpk9vc1wqqi"
   },
   "execution_count": null,
   "outputs": []
  },
  {
   "cell_type": "markdown",
   "source": [
    "**Ваше объяснение:** ..."
   ],
   "metadata": {
    "id": "1hBuXFwOLSsX"
   }
  },
  {
   "cell_type": "markdown",
   "source": [
    "3. **(1 баллов)** Постройте график $D_nx_{pinv}$, сравните с графиком частот исходной волны. Чем они отличаются?"
   ],
   "metadata": {
    "id": "vU40xoxxFNe-"
   }
  },
  {
   "cell_type": "code",
   "source": [
    "# YOUR CODE HERE"
   ],
   "metadata": {
    "id": "C3BWwy2fFSH-"
   },
   "execution_count": null,
   "outputs": []
  },
  {
   "cell_type": "markdown",
   "source": [
    "Теперь попробуем подойти к восстановлению изображения с другой стороны: будем решать при фиксированном $\\mu > 0$ так называемую $\\ell_2$-регуляризованную задачу наименьших квадратов (в англоязычной литературе ridge regression):\n",
    "\n",
    "$$\n",
    "\\|Px - y\\|_2^2 + \\mu \\|x\\|_2^2 \\to \\min\n",
    "$$\n",
    "\n",
    "Смысл состоит в том, что мы хотим, чтобы одновременно и $x$ давала проекцию, похожую на $y$, и при этом сам вектор $x$ не был слишком велик по норме.\n",
    "\n",
    "Для решения этой задачи запишем условие равенства нулю градиента этой функции:\n",
    "\n",
    "$$\n",
    "2(Px-y)^\\top P + 2\\mu x^\\top = 0 \\Leftrightarrow (P^\\top P + \\mu I)x = P^\\top y.\n",
    "$$\n",
    "\n",
    "\n",
    "4. **(3 балла)** Объясните, почему в нашем случае не имеет смысла применять Ridge для восстановления исходного вектора (как решая относительно x, так и относительно s)."
   ],
   "metadata": {
    "id": "itk95VvFEc_d"
   }
  },
  {
   "cell_type": "markdown",
   "source": [
    "\n",
    "\n",
    "**Ваше решение:** ..."
   ],
   "metadata": {
    "id": "H4oSmghAEeds"
   }
  },
  {
   "cell_type": "markdown",
   "source": [
    "5. **(2 балла)** Вычислите матрицу $A = PD_n^T$ с помощью `scipy.fft.dct`. Не используйте транспонирование, ваш алгоритм должен быть сложности O(mn log n)."
   ],
   "metadata": {
    "id": "uwG1hFj5I3yn"
   }
  },
  {
   "cell_type": "code",
   "source": [
    "A = # YOUR CODE HERE"
   ],
   "metadata": {
    "id": "LW7daW3PI1H7"
   },
   "execution_count": null,
   "outputs": []
  },
  {
   "cell_type": "markdown",
   "source": [
    "Интерпретация с частотами звуковой волной позволяет получить хорошую интуицию насчет ДКП: для массивов встречающихся в реальности вектор в пространстве частот будет близок к разреженному, то есть содержащему большое число нулей. В следующем разделе мы воспользуемся этим фактом для более умного метода восстановления входного массива, но на этот раз в двумерном случае."
   ],
   "metadata": {
    "id": "np9HGAIkH2ik"
   }
  },
  {
   "cell_type": "markdown",
   "source": [
    "### c. (16 баллов) Двумерный случай (изображение)"
   ],
   "metadata": {
    "id": "z21g7ZaHb-OR"
   }
  },
  {
   "cell_type": "markdown",
   "source": [
    "Рассмотрим [фотографию](https://en.wikipedia.org/wiki/Deconvolution) лунного кратера."
   ],
   "metadata": {
    "id": "O0Dt6MoO5pxo"
   }
  },
  {
   "cell_type": "code",
   "source": [
    "img = plt.imread(\"data/crater.png\").astype(float)\n",
    "X = img.mean(axis=2)\n",
    "X -= X.mean()\n",
    "X = X / np.abs(X).max()\n",
    "\n",
    "plt.figure(figsize=(6,6))\n",
    "plt.imshow(X, cmap=\"gray\");\n",
    "plt.axis(\"off\")\n",
    "plt.title(\"Original Image\");"
   ],
   "metadata": {
    "id": "AqGLxJQyS1TH"
   },
   "execution_count": null,
   "outputs": []
  },
  {
   "cell_type": "markdown",
   "source": [
    "Занулим 80% всех пикселей."
   ],
   "metadata": {
    "id": "LhV3yyfwTrDl"
   }
  },
  {
   "cell_type": "code",
   "source": [
    "n = X.shape[0]\n",
    "m = int(0.2 * n*n)\n",
    "idxs = np.random.choice(n*n, m, replace=False)\n",
    "\n",
    "P = np.zeros((m,n*n))\n",
    "P[np.arange(m), idxs] = np.ones(m)\n",
    "y = P @ X.reshape(-1)"
   ],
   "metadata": {
    "id": "IcxMmFotAjbO"
   },
   "execution_count": null,
   "outputs": []
  },
  {
   "cell_type": "markdown",
   "source": [
    "1. **(1 балл)** С помощью P постройте картинку исходного размера, где эти пиксели занулены:"
   ],
   "metadata": {
    "id": "MiRsHQkzn2-F"
   }
  },
  {
   "cell_type": "code",
   "source": [
    "sparsed_X = # YOUR CODE HERE\n",
    "\n",
    "plt.figure(figsize=(6,6))\n",
    "plt.imshow(sparsed_X, cmap=\"gray\");\n",
    "plt.axis(\"off\")\n",
    "plt.title(\"Leftover Pixels\");"
   ],
   "metadata": {
    "id": "zlZVrHLeoRwj"
   },
   "execution_count": null,
   "outputs": []
  },
  {
   "cell_type": "markdown",
   "source": [
    "Если вы всё сделали правильно, то большяа часть картинки будет серой. Понятно, что по такому небольшому числу пискселей вряд ли получится восстановить детали изображения, но общие очертания мы получить все же сможем."
   ],
   "metadata": {
    "id": "bUh9mM4RMLNG"
   }
  },
  {
   "cell_type": "markdown",
   "source": [
    "Для двумерных изображений нужно применять уже 2d дискретное косинусное преобразование (1d на векторизованной картинке потеряет вертикальную близость между пикселями -- можете попробовать).\n",
    "\n",
    "Пусть $X \\in \\mathbb{R}^{n \\times n}$ - исходное изображение. Тогда двумерным дискретным косинусным преобразованием будет:\n",
    "\n",
    "$$\n",
    "    S = D_n X D_n^T\n",
    "$$\n",
    "\n",
    "2. **(2 балла)** С помощью `scipy.fft.dct` постройте матрицу $S$ и изобразите её. Ваше решение должно быть сложности $O(n^2 \\log n)$. Можно ли и в двумерном случае говорить о разреженности частот?"
   ],
   "metadata": {
    "id": "wWqMS6Q5esAX"
   }
  },
  {
   "cell_type": "code",
   "source": [
    "plt.figure(figsize=(7,7))\n",
    "plt.axis(\"off\")\n",
    "S = #YOUR CODE HERE\n",
    "plt.imshow(S, cmap=\"hot\")\n",
    "plt.colorbar()\n",
    "plt.title(\"S\");"
   ],
   "metadata": {
    "id": "vktjzvd-eAZo"
   },
   "execution_count": null,
   "outputs": []
  },
  {
   "cell_type": "markdown",
   "source": [
    "То есть:\n",
    "\n",
    "$$\n",
    "    vec(S) = (D_n \\otimes D_n) vec(X)\n",
    "$$\n",
    "\n",
    "Нам известно наблюдение $Y \\in \\mathbb{R}^{m \\times m}$ с зануленными координатами:\n",
    "\n",
    "$$\n",
    "    vec(Y) = P vec(X)\n",
    "$$\n",
    "\n",
    "Выражение $Y$ через $S$ примет вид:\n",
    "\n",
    "$$\n",
    "    vec(Y) = \\underbrace{P (D_n \\otimes D_n)^{T}}_{A} vec(S)\n",
    "$$"
   ],
   "metadata": {
    "id": "aMlOQQWqddSq"
   }
  },
  {
   "cell_type": "markdown",
   "source": [
    "2. **(7 баллов)** Используя `scipy.fft.dct` и `scipy.fft.idct` постройте матрицу A. Ваше решение должно быть сложности $O(m^2n^2 \\log n)$.\n",
    "\n",
    "**Подсказка:** Для этого посмотрите как матрица $(D_n \\otimes D_n)$ действует на каждую строку матрицы $P$ (или столбец матрицы $P^T$). Вам пригодится трехмерный `np.reshape`."
   ],
   "metadata": {
    "id": "LtdltQQNKuKh"
   }
  },
  {
   "cell_type": "markdown",
   "source": [
    "**Ваш вывод формулы:** ..."
   ],
   "metadata": {
    "id": "RhDPw34FsP6c"
   }
  },
  {
   "cell_type": "code",
   "source": [
    "# ...\n",
    "A = # YOUR CODE HERE"
   ],
   "metadata": {
    "id": "sCtmINm2d1yQ"
   },
   "execution_count": null,
   "outputs": []
  },
  {
   "cell_type": "markdown",
   "source": [
    "**Lasso**\n",
    "\n",
    "Если в ridge regression вместо квадрата второй нормы $x$ использовать первую норму (то есть ставить $\\ell_1$-регуляризованную задачу наименьших квадратов), то получится такая задача минимизации:\n",
    "$$\n",
    "\\|Avec(S)-vec(Y)\\|_2^2 + \\mu \\|vec(S)\\|_1 \\to \\min.\n",
    "$$\n",
    "\n",
    "Такая задача оказывается более подходящей в нашем случае, так как её решение часто оказывается близким к разреженному (получить некоторую интуицию о том, почему так происходит, можно, например, [тут](https://medium.com/analytics-vidhya/intuition-behind-l1-l2-regularisation-2ac1e6a1bd81); более развёрнутое описание метода есть в [википедии](https://en.wikipedia.org/wiki/Lasso_(statistics))).\n",
    "\n",
    "Однако разреженность исходной картинки $vec(X)$ вряд ли нам поможет. Вместо этого будем решать Lasso относительно $vec(S)$: ведь для частотного представления мы наблюдали разреженность."
   ],
   "metadata": {
    "id": "gLyWK99KF6Ix"
   }
  },
  {
   "cell_type": "markdown",
   "source": [
    "5. **(6 баллов)** Заполните пропуски в функции *solve_lasso*. Примените её для решения $y = As$. По полученному решению восстановите вектор $x$ с помощью `scipy.fft.idct`. \n",
    "\n",
    "**Подсказка:** Воспользуйтесь [документацией sklearn.](https://scikit-learn.org/stable/modules/generated/sklearn.linear_model.Lasso.html)\n"
   ],
   "metadata": {
    "id": "Ho1UMNuWGOti"
   }
  },
  {
   "cell_type": "code",
   "source": [
    "from sklearn.linear_model import Lasso\n",
    "\n",
    "def solve_lasso(A, y):\n",
    "    lasso = Lasso(alpha=1e-6)\n",
    "    # YOUR CODE GOES HERE\n",
    "    # lasso.fit(...)\n",
    "    return # YOUR CODE GOES HERE"
   ],
   "metadata": {
    "id": "IYn-Ud6SGM4a"
   },
   "execution_count": null,
   "outputs": []
  },
  {
   "cell_type": "code",
   "source": [
    "vec_s = solve_lasso(A, y)\n",
    "X_reconstructed = # YOUR CODE HERE"
   ],
   "metadata": {
    "id": "4qFZwtR3dpmD"
   },
   "execution_count": null,
   "outputs": []
  },
  {
   "cell_type": "code",
   "source": [
    "fig, axs = plt.subplots(figsize=(21, 7), ncols=3)\n",
    "axs[0].imshow(X, cmap=\"gray\")\n",
    "axs[0].set(title=\"Original\")\n",
    "axs[0].axis(\"off\")\n",
    "axs[1].imshow((P.T @ y).reshape(n,n), cmap=\"gray\")\n",
    "axs[1].set(title=\"Leftover Pixels\")\n",
    "axs[1].axis(\"off\")\n",
    "axs[2].imshow(X_reconstructed, cmap=\"gray\")\n",
    "axs[2].set(title=\"Reconstructed\")\n",
    "axs[2].axis(\"off\");"
   ],
   "metadata": {
    "id": "VUcy5PnOkkFb"
   },
   "execution_count": null,
   "outputs": []
  },
  {
   "cell_type": "markdown",
   "metadata": {
    "id": "1OBO1jGQWJ1M"
   },
   "source": [
    "# Задача 2. Дискретная свертка и ее обращение (deconvolution) (50 баллов)"
   ]
  },
  {
   "cell_type": "markdown",
   "metadata": {
    "id": "z5AA8ZiOWJ1M"
   },
   "source": [
    "В этой задаче мы научимся эффективно вычислять **свёртку** изображения на примере одного из самых известных фильтров &mdash; фильтра Гаусса (подзадачи a., b., c.), а также попробуем восстановить исходное изображение из размытого (подзадача d.)."
   ]
  },
  {
   "cell_type": "markdown",
   "metadata": {
    "id": "koph4Lz_WJ1O"
   },
   "source": [
    "Начнем с эффективного применение фильтра Гаусса\n",
    "\n",
    "Загрузим изображение (в виде матрицы $A$), с которым будем работать. Будем использовать одну из классических фотографий, применяемых для тестирования алгоритмов обработки изображений: \"cameraman\". "
   ]
  },
  {
   "cell_type": "code",
   "execution_count": null,
   "metadata": {
    "id": "goG2HW7eWJ1O"
   },
   "outputs": [],
   "source": [
    "import numpy as np\n",
    "import matplotlib.pyplot as plt\n",
    "from matplotlib.image import imread\n",
    "%matplotlib inline\n",
    "\n",
    "A = imread('data/cameraman.tif').astype(np.float)\n",
    "print(A.shape)\n",
    "_ = plt.imshow(A, cmap='gray')"
   ]
  },
  {
   "cell_type": "markdown",
   "metadata": {
    "id": "NFuxSZ-LWJ1W"
   },
   "source": [
    "Мы будем учиться применять к картинке [фильтр Гаусса](https://en.wikipedia.org/wiki/Gaussian_blur), чтобы получить в итоге что-то вроде следующего изображения. "
   ]
  },
  {
   "cell_type": "code",
   "execution_count": null,
   "metadata": {
    "id": "ityrl7a_WJ1Y"
   },
   "outputs": [],
   "source": [
    "from scipy.ndimage import gaussian_filter\n",
    "B = gaussian_filter(A, 3)\n",
    "_ = plt.imshow(B, cmap='gray')"
   ]
  },
  {
   "cell_type": "markdown",
   "metadata": {
    "id": "FaoHoExOWJ1Z"
   },
   "source": [
    "### a. (10 баллов) Формулировка задачи\n",
    "\n",
    "При это преобразовании каждый пиксель картинки заменяется на взвешенную сумму соседних пикселей (вообще говоря, всех остальных пикселей картинки), причём вес пикселя со смещением $\\Delta x$ и $\\Delta y$ относительно данного есть\n",
    "$$\n",
    "G(\\Delta x, \\Delta y) = \\frac{1}{2\\pi\\sigma^2}\\exp\\left(-\\frac{\\Delta x^2 + \\Delta y^2}{2\\sigma^2}\\right).\n",
    "$$\n",
    "Это называется двумерной **свёрткой** картинки с фильтром Гаусса (обычно при этом считается, что картинка продолжена за края каким-то образом, например, отражена, чтобы пиксели размытой картинки у краёв не имели меньшую яркость. Но мы не будем реализовывать этот эффект).\n",
    "\n",
    " 1. **(10 баллов)** Покажите, что результат $B$ применения такой операции к матрице $A$ можно представить в виде\n",
    "$$\n",
    "    B = T_m A T_n^T,\n",
    "$$\n",
    "где \n",
    "$$\n",
    "(T_n)_{i,j} = \\frac{1}{\\sqrt{2\\pi\\sigma^2}}\\exp\\left(-\\frac{(i-j)^2}{2\\sigma^2}\\right).\n",
    "$$\n",
    "\n",
    "**Замечание:** формулу для $B$ можно будет использовать в дальнейшем даже если этот пункт не был решен."
   ]
  },
  {
   "cell_type": "markdown",
   "source": [
    "Для начала заметим, что двумерную свертку можно представить как последовательную свертку сначала по одной оси, а потом по другой. Поэтому достаточно рассмотреть одномерную свертку. Пусть $f$ — вектор, на который мы хотим применить свертку, а $g$ — фильтр Гаусса. Тогда одномерная свертка $f$ с фильтром $g$ определяется следующим образом:\n",
    "\n",
    "$$(f * g)_{i} = \\sum_{j=-\\infty}^{\\infty} f_j g_{i-j}.$$\n",
    "\n",
    "Для упрощения вычислений заметим, что фильтр $g$ является четной функцией, то есть $g_{-i} = g_i$. Тогда можно переписать формулу свертки следующим образом:\n",
    "$$\n",
    "(f * g)_i = \\sum{j=-\\infty}^{\\infty} f_j g_{i-j}\n",
    "= \\sum_{j=-\\infty}^{\\infty} f_j g_{j-i}\n",
    "= \\sum_{j=-\\infty}^{\\infty} f_{i-j} g_{j}\n",
    "= \\sum_{j=-\\infty}^{\\infty} f_{i-j} \\left(\\frac{1}{\\sqrt{2\\pi\\sigma^2}}\\exp\\left(-\\frac{j^2}{2\\sigma^2}\\right)\\right)\n",
    "= \\left(\\frac{1}{\\sqrt{2\\pi\\sigma^2}}\\right) \\sum_{j=-\\infty}^{\\infty} f_{i-j} \\exp\\left(-\\frac{j^2}{2\\sigma^2}\\right)\n",
    "= (f * T_n)_i,\n",
    "$$\n",
    "где $T_n$ — матрица, элементы которой равны $T_n(i, j) = \\frac{1}{\\sqrt{2\\pi\\sigma^2}}\\exp\\left(-\\frac{(i-j)^2}{2\\sigma^2}\\right)$.\n",
    "\n",
    "Таким образом, применение одномерной свертки к каждой строке матрицы $A$ с помощью фильтра $T_n$ можно записать в виде $B = A T_n^T$, а применение одномерной свертки к каждому столбцу матрицы $B$ с помощью того же фильтра $T_n$ можно записать в виде $B = T_m B$. Соединяя эти два шага, получаем искомое представление: $B = T_m A T_n^T$."
   ],
   "metadata": {
    "collapsed": false
   }
  },
  {
   "cell_type": "markdown",
   "metadata": {
    "id": "ohoMqT0XWJ1c"
   },
   "source": [
    "### b. (20 баллов) Имплементация одномерных сверток"
   ]
  },
  {
   "cell_type": "markdown",
   "metadata": {
    "id": "8zI-XCHEWJ1d"
   },
   "source": [
    "1. **(12 баллов)** Реализуйте функцию `convolve_1D`, которая вычисляет $T_m A$ с помощью вложения $T_m$ в циркулянт и использования быстрого преобразования Фурье (```np.fft.fft```). Матрица $T_m$ задаётся с помощью своего первого столбца. При вычислениях нигде не должна возникнуть полная матрица $T_m$."
   ]
  },
  {
   "cell_type": "code",
   "execution_count": null,
   "metadata": {
    "id": "YIw74HKqWJ1d"
   },
   "outputs": [],
   "source": [
    "def convolve_1D(A, T_col):\n",
    "    \"\"\"\n",
    "        Input\n",
    "            A: m x n matrix\n",
    "            T_col: array of shape (m,) -- first column of matrix T_m\n",
    "\n",
    "        Output\n",
    "            B: m x n matrix, B = T_m @ A\n",
    "    \"\"\"\n",
    "    m = T_col.shape[0]\n",
    "    C_col = np.concatenate((T_col, T_col[:0:-1]))\n",
    "    A_exp = np.pad(A, ((0, m-1), (0, 0)), mode='constant', constant_values=0)\n",
    "    return np.real(np.fft.ifft(np.fft.fft(C_col).reshape(-1,1) * np.fft.fft(A_exp, axis=0), axis=0))[:m]"
   ]
  },
  {
   "cell_type": "markdown",
   "metadata": {
    "id": "4uT7b14oWJ1d"
   },
   "source": [
    "Напишем также функцию `form_T_col`, которая будет создавать первый столбец матрицы `T_m` для заданных параметров `m` и `sigma`, а также `form_T`, которая будет создавать собственно матрицу $T_m$. Мы будем использовать `form_T` для тестирования правильности вычислений."
   ]
  },
  {
   "cell_type": "code",
   "execution_count": null,
   "metadata": {
    "id": "anNHyACYWJ1e"
   },
   "outputs": [],
   "source": [
    "from scipy.linalg import toeplitz\n",
    "\n",
    "def form_T_col(m, sigma):\n",
    "    \"\"\"\n",
    "        Input\n",
    "            m: number of rows of T_m\n",
    "            sigma: standard deviation of Gaussian filter\n",
    "\n",
    "        Output\n",
    "            T_col: array of shape (m,) -- first column of T_m, \n",
    "                   the matrix of 1D Gaussian filter\n",
    "    \"\"\"\n",
    "    return 1. / (np.sqrt(2 * np.pi) * sigma) * np.exp((-1. / sigma**2) * np.arange(m)**2)\n",
    "    \n",
    "def form_T(m, sigma):\n",
    "    \"\"\"\n",
    "        Input\n",
    "            m: number of rows of T_m\n",
    "            sigma: standard deviation of Gaussian filter\n",
    "\n",
    "        Output\n",
    "            T_m: m x m matrix of 1D gaussian filter\n",
    "    \"\"\"\n",
    "    return toeplitz(form_T_col(m, sigma))"
   ]
  },
  {
   "cell_type": "markdown",
   "metadata": {
    "id": "RnFmK3DOWJ1e"
   },
   "source": [
    "Теперь мы можем проверить, правильно ли работает функция `convolve_1D`."
   ]
  },
  {
   "cell_type": "code",
   "execution_count": null,
   "metadata": {
    "id": "pJ0wJU3KWJ1f"
   },
   "outputs": [],
   "source": [
    "B = A[:5,:5]\n",
    "sigma = 10\n",
    "m, n = B.shape\n",
    "T_m_col = form_T_col(m, sigma)\n",
    "T_m = form_T(m, sigma)\n",
    "np.linalg.norm(T_m @ B - convolve_1D(B, T_m_col))"
   ]
  },
  {
   "cell_type": "markdown",
   "metadata": {
    "id": "avA1coHaWJ1g"
   },
   "source": [
    "2. **(2 балла)** Используя тот факт, что быстрое преобразование Фурье вектора длины $n$ вычисляется за $O(n\\log n)$, выпишите асимптотику времени работы функции `convolve_1D`."
   ]
  },
  {
   "cell_type": "markdown",
   "metadata": {
    "id": "NVXcg_TVWJ1i"
   },
   "source": [
    "Функция convolve_1D выполняет одномерную свертку вектора $A$ с фильтром Гаусса $T_n$. Мы можем переписать свертку в терминах быстрого преобразования Фурье следующим образом:\n",
    "$$\n",
    "B = \\mathrm{IFFT}(\\mathrm{FFT}(A) \\cdot \\mathrm{FFT}(T_n)),\n",
    "$$\n",
    "Здесь $\\mathrm{FFT}$ и $\\mathrm{IFFT}$ обозначают быстрое преобразование Фурье и обратное преобразование Фурье соответственно.\n",
    "\n",
    "Длина вектора $A$ равна $n$, а длина фильтра $T_n$ также равна $n$, поэтому для вычисления $\\mathrm{FFT}(A)$ и $\\mathrm{FFT}(T_n)$ потребуется $O(n\\log n)$ операций.\n",
    "\n",
    "Умножение двух векторов длины $n$ также занимает $O(n\\log n)$ операций с помощью быстрого преобразования Фурье.\n",
    "\n",
    "Обратное преобразование Фурье $\\mathrm{IFFT}(\\cdot)$ также занимает $O(n\\log n)$ операций.\n",
    "\n",
    "Итак, общая асимптотика времени работы функции convolve_1D равна $O(n\\log n)$, что делает ее достаточно эффективной для обработки больших векторов $A$."
   ]
  },
  {
   "cell_type": "markdown",
   "metadata": {
    "id": "pxw49R8nWJ1i"
   },
   "source": [
    "3. **(5 балла)** Теперь нам понадобится функция `gauss_convolve_1D`, которая сформирует правильный столбец `T_col` и вызовет `convolve_1D`. Параметр `sigma` соответствует гауссовскому стандартному отклонению $\\sigma$ из формулы для $G(\\cdot)$."
   ]
  },
  {
   "cell_type": "code",
   "execution_count": null,
   "metadata": {
    "id": "kccishFuWJ1k"
   },
   "outputs": [],
   "source": [
    "def gauss_convolve_1D(A, sigma):\n",
    "    \"\"\"\n",
    "        Input\n",
    "            A: m x n matrix\n",
    "            sigma: standard deviation of Gaussian filter\n",
    "\n",
    "        Output\n",
    "            B: m x n matrix, B = T_m @ A\n",
    "    \"\"\"\n",
    "    return convolve_1D(A, form_T_col(A.shape[0], sigma))"
   ]
  },
  {
   "cell_type": "markdown",
   "metadata": {
    "id": "j0_8baGYWJ1k"
   },
   "source": [
    "4. **(1 балла)** Проверим, как работает наша одномерная свёртка на нашей картинке. Должно быть похоже, что каждый столбец размыли. Когда всё получится, попробуйте поиграть параметром `sigma` и объясните, как от него зависит \"сила\" размытия."
   ]
  },
  {
   "cell_type": "code",
   "execution_count": null,
   "metadata": {
    "id": "sHzXJXs3WJ1l"
   },
   "outputs": [],
   "source": [
    "A_conv_1D = gauss_convolve_1D(A, 10)\n",
    "_ = plt.imshow(A_conv_1D, cmap='gray')"
   ]
  },
  {
   "cell_type": "markdown",
   "metadata": {
    "id": "4ciYml6FWJ1l"
   },
   "source": [
    "При росте $\\sigma$ размытие становится сильнее. Это связано с тем, что при увеличении $\\sigma$ увеличивается усреднение"
   ]
  },
  {
   "cell_type": "markdown",
   "metadata": {
    "id": "Xlk4RynAWJ1m"
   },
   "source": [
    "### c. (8 баллов) Вычисление двумерной свертки"
   ]
  },
  {
   "cell_type": "markdown",
   "metadata": {
    "id": "kVfBAmrQWJ1n"
   },
   "source": [
    "1. **(6 баллов)** Теперь вы уже без труда сможете написать функцию двумерной свёртки: $B = T_m A T_n^T$, используя функцию ```gauss_convolve_1D```."
   ]
  },
  {
   "cell_type": "code",
   "execution_count": null,
   "metadata": {
    "id": "9z4GyF_0WJ1n"
   },
   "outputs": [],
   "source": [
    "def gauss_convolve_2D(A, sigma):\n",
    "    \"\"\"\n",
    "        Input\n",
    "            A: m x n matrix\n",
    "            sigma: standard deviation of Gaussian filter\n",
    "\n",
    "        Output\n",
    "            С: m x n matrix, B = T_m @ A @ T_n.T\n",
    "    \"\"\"\n",
    "    return gauss_convolve_1D(gauss_convolve_1D(A, sigma).T, sigma).T"
   ]
  },
  {
   "cell_type": "markdown",
   "metadata": {
    "id": "SpBwKXkPWJ1o"
   },
   "source": [
    "...и визуально проверить, правильно ли она работает."
   ]
  },
  {
   "cell_type": "code",
   "execution_count": null,
   "metadata": {
    "id": "BLgRK1UKWJ1o"
   },
   "outputs": [],
   "source": [
    "A_conv = gauss_convolve_2D(A, 5)\n",
    "_ = plt.imshow(A_conv, cmap='gray')"
   ]
  },
  {
   "cell_type": "markdown",
   "metadata": {
    "id": "QPxv5rgBWJ1p"
   },
   "source": [
    "2. **(2 балла)** Объясните эффект тёмных полос около края картинки."
   ]
  },
  {
   "cell_type": "markdown",
   "metadata": {
    "id": "Y6Qi1RjvWJ1p"
   },
   "source": [
    "на границах соседние пиксели имеют разные значения, поэтому при свертке с гауссовским ядром получается, что в некоторых местах ядро сильнее влияет на пиксель, чем в других. Это приводит к тому, что в некоторых местах получается темнее"
   ]
  },
  {
   "cell_type": "markdown",
   "metadata": {
    "id": "ylqaabigWJ1p"
   },
   "source": [
    "### d. (12 баллов) Обращение свёртки (deconvolution)\n",
    "\n",
    "Представьте, что к вам попало изображение такого типа."
   ]
  },
  {
   "cell_type": "code",
   "execution_count": null,
   "metadata": {
    "id": "d6FiN8M3WJ1q"
   },
   "outputs": [],
   "source": [
    "from scipy.ndimage import gaussian_filter\n",
    "sigma = 5\n",
    "A_conv = gauss_convolve_2D(A, sigma)\n",
    "_ = plt.imshow(A_conv, cmap='gray')"
   ]
  },
  {
   "cell_type": "markdown",
   "metadata": {
    "id": "MklupR_qWJ1r"
   },
   "source": [
    "Деталей не видно совсем. Чтобы восстановить их попробуем применить применить операцию обратную свертке. \n",
    "Мы уже знаем, что размытое изображение $A_{conv}$ вычисляется по формуле $A_{conv} = T_m A T_n^\\top$.\n",
    "Если же матрицы $T_m$ и $T_n$ обратимы, то можно обратить свёртку и получить обратно нашего cameraman:\n",
    "$$\n",
    "A = T_m^{-1} A_{conv} T_n^{-\\top}.\n",
    "$$"
   ]
  },
  {
   "cell_type": "code",
   "execution_count": null,
   "metadata": {
    "id": "bEqZXbEoWJ1s"
   },
   "outputs": [],
   "source": [
    "m, n = A_conv.shape\n",
    "T_m, T_n = form_T(m, sigma), form_T(n, sigma)\n",
    "B = np.linalg.solve(T_m, A_conv)\n",
    "A_rec = np.linalg.solve(T_n, B.T).T"
   ]
  },
  {
   "cell_type": "code",
   "execution_count": null,
   "metadata": {
    "id": "8b7TvBdlWJ1w"
   },
   "outputs": [],
   "source": [
    "_ = plt.imshow(A_rec, cmap='gray')"
   ]
  },
  {
   "cell_type": "markdown",
   "metadata": {
    "id": "L6o92zkmWJ1w"
   },
   "source": [
    "Непохоже на исходное изображение. В чём может быть дело?\n",
    "Давайте выведем сингулярные числа матрицы $G_m$."
   ]
  },
  {
   "cell_type": "code",
   "execution_count": null,
   "metadata": {
    "id": "M6AeQcY9WJ1w"
   },
   "outputs": [],
   "source": [
    "s = np.linalg.svd(T_m, compute_uv=False)\n",
    "plt.plot(s)\n",
    "_ = plt.semilogy()"
   ]
  },
  {
   "cell_type": "markdown",
   "metadata": {
    "id": "McewtV-MWJ1x"
   },
   "source": [
    "Видно, что у нас большие проблемы (хотя пока мы не умеем это формализовывать), потому что матрица очень близка к вырожденной. Специально для таких матриц у нас есть инструмент псевдообратных матриц, но чтобы оправдать его применение, нужно сначала свести задачу вычисления матрицы $A$ к задаче решения системы линейных уравнений. \n",
    "Для этого вспомним формулу, связанную с Кронекеровым произведением: \n",
    "$$\n",
    "\\mathrm{vec}(A_{conv}) = (T_n \\otimes T_m)\\,\\mathrm{vec}(A).\n",
    "$$\n",
    "Теперь уже можно вычислить \"приближённый\" $\\mathrm{vec}(A)$ с помощью псевдообратных:\n",
    "$$\n",
    "\\mathrm{vec}(\\tilde{A}) = (T_n \\otimes T_m)^+ \\,\\mathrm{vec}(A_{conv})\n",
    "$$\n",
    "\n",
    "Конечно, мы не хотим формировать матрицу размеров $mn \\times mn$ и работать с ней, поэтому воспользуемся (проверьте) тем фактом, что\n",
    "$$\n",
    "(T_n \\otimes T_m)^+ = T_n^+ \\otimes T_m^+.\n",
    "$$\n",
    "Теперь можно перейти обратно к матричной записи: \n",
    "$$\n",
    "\\tilde{A} = T_m^+ A_{conv} (T_n^+)^\\top.\n",
    "$$"
   ]
  },
  {
   "cell_type": "markdown",
   "source": [
    "1. **(6 баллов)** Напишите функцию `pseudoinverse`, вычисляющую для заданной матрицы $P$ сингулярное разложение её $\\delta$-псевдообратной.\n",
    "Необходимо вернуть компактное SVD матрицы $P^+_\\delta$.\n",
    "Для вычисления используйте сингулярное разложение матрицы $P$. Использовать функцию `np.linalg.pinv` запрещено."
   ],
   "metadata": {
    "id": "h5oeR_iHwDU6"
   }
  },
  {
   "cell_type": "code",
   "source": [
    "def pseudoinverse_svd(P, threshold=1e-15):\n",
    "    \"\"\"\n",
    "        Input\n",
    "            A: m x n array\n",
    "            threshold: smaller singular values are to be dropped\n",
    "        Output\n",
    "            U: n x r array with orthonormal columns\n",
    "            S: array of size r\n",
    "            VT: r x m array with orthonormal rows\n",
    "    \"\"\"\n",
    "    U, S, VT = np.linalg.svd(P, full_matrices=False)\n",
    "    return VT.T, 1 / S[np.abs(S) > threshold], U.T\n"
   ],
   "metadata": {
    "id": "QrAtwNRhwMsz"
   },
   "execution_count": null,
   "outputs": []
  },
  {
   "cell_type": "markdown",
   "source": [
    "Проверим, что псевдообратная совпадает с обратной для квадратной невырожденной матрицы $A$ (случайная матрица с вероятностью, очень близкой к единице, является невырожденной)."
   ],
   "metadata": {
    "id": "LCe5l-DgwH5B"
   }
  },
  {
   "cell_type": "code",
   "source": [
    "A = np.random.random((3, 3))\n",
    "U, S, VT = pseudoinverse_svd(A)\n",
    "pinv = np.multiply(U, S) @ VT\n",
    "assert np.linalg.norm(pinv @ A - np.eye(3)) < 1e-12"
   ],
   "metadata": {
    "id": "E2f6_mk6wIae"
   },
   "execution_count": null,
   "outputs": []
  },
  {
   "cell_type": "markdown",
   "source": [
    "2. **(6 баллов)** Реализуйте функцию ```inverse_gauss_convolve_2D```, которая реконструирует изображение по \"смазанной\" картинке $A_{conv}$ с помощью псевдообратных матриц от матриц $T_m$ и $T_n$, у которых занулили сингулярные числа меньше ```tol```. **Замечание:** В данном случае ```np.linalg.pinv``` выдаст всю псевдообратную матрицу, что подойдет в качестве решения. Но можно сделать немного эффективнее, если явно умножать на компоненты компактного SVD."
   ],
   "metadata": {
    "id": "YZcppV47wQCl"
   }
  },
  {
   "cell_type": "code",
   "execution_count": null,
   "metadata": {
    "id": "yB0mWOrHWJ1y"
   },
   "outputs": [],
   "source": [
    "def inverse_gauss_convolve_2D(A_conv, sigma, tol):\n",
    "    \"\"\"\n",
    "        Input\n",
    "            conv: m x n matrix -- result of convolution with\n",
    "                  a Gaussian filter\n",
    "            sigma: standard deviation of Gaussian filter\n",
    "            tol: absolute tolerance for cutting singular values in pseudoinverse\n",
    "\n",
    "        Output\n",
    "            A_rec: m x n reconstructed matrix, such that approximately A_conv = T_m @ A_rec @ T_n.T\n",
    "    \"\"\"\n",
    "    T_m, T_n = form_T(A_conv.shape[0], sigma), form_T(A_conv.shape[1], sigma)\n",
    "    Tm_U, Tm_S, Tm_VT = pseudoinverse_svd(T_m, tol)\n",
    "    Tn_U, Tn_S, Tn_VT = pseudoinverse_svd(T_n, tol)\n",
    "    return (Tm_U[:, :Tm_S.shape[0]] @ (np.diag(Tm_S) @ Tm_VT[:Tm_S.shape[0], :])) @ (A_conv @ (Tn_VT[:Tn_S.shape[0], :].T @ (np.diag(Tn_S) @ Tn_U[:, :Tn_S.shape[0]].T)))"
   ]
  },
  {
   "cell_type": "markdown",
   "metadata": {
    "id": "mTjxGlUnWJ1y"
   },
   "source": [
    "Посмотрим на получившийся результат."
   ]
  },
  {
   "cell_type": "code",
   "execution_count": null,
   "metadata": {
    "id": "Bets3r0xWJ1z"
   },
   "outputs": [],
   "source": [
    "\n",
    "A = imread('data/cameraman.tif').astype(np.float)\n",
    "fig, axs = plt.subplots(1,3, figsize=(20,10))\n",
    "axs[0].imshow(A, cmap='gray')\n",
    "axs[0].set_title(\"Original\")\n",
    "axs[1].imshow(A_conv, cmap='gray')\n",
    "axs[1].set_title(\"Gaussed\")\n",
    "A_rec = inverse_gauss_convolve_2D(A_conv, sigma, 1e-8)\n",
    "axs[2].imshow(A_rec, cmap='gray')\n",
    "_ = axs[2].set_title(\"Reconstructed\")"
   ]
  },
  {
   "cell_type": "markdown",
   "metadata": {
    "id": "ytSMDRLHa-SN"
   },
   "source": [
    "## Бонус\n",
    "\n",
    "Выберем \n",
    "$$\n",
    "\\tilde G(\\Delta x, \\Delta y) = C(\\alpha) \\exp\\left(-\\alpha\\sqrt{\\Delta x^2 + \\Delta y^2}\\right),\n",
    "$$\n",
    "где $C(\\alpha)$ выбирается из $\\ell_1$ нормировки массива (допускается найти $C(\\alpha)$ численно).\n",
    "\n",
    "1. **(60 б. баллов)** С помощью вложения БТТБ в БЦЦБ матрицу $C$ реализуйте двумерную свертку с картинкой из предыдущей задачи и с фунцией $\\tilde G$ вместо $G$. Постройте свертку для разных значений параметра $\\alpha$ и опишите наблюдаемые эффекты.\n",
    "\n",
    "\n",
    "2. **(40 б. баллов)** Используя $C$ из предыдущего бонусного пункта, дополните картинку нулями до подходящего размера, посчитайте свертку, а затем обратите ее с помощью применения $\\delta$-псевдообратной. Требуемая сложность: $\\mathcal{O}(mn \\log mn)$ для $m\\times n$ картинки. Постройте свертку для разных значений параметров $\\alpha$ и $\\delta$ и опишите наблюдаемые эффекты."
   ]
  },
  {
   "cell_type": "code",
   "execution_count": null,
   "metadata": {
    "id": "3hPj0PPBa-SN"
   },
   "outputs": [],
   "source": []
  }
 ],
 "metadata": {
  "colab": {
   "provenance": [],
   "toc_visible": true
  },
  "kernelspec": {
   "display_name": "Python 3",
   "language": "python",
   "name": "python3"
  },
  "language_info": {
   "codemirror_mode": {
    "name": "ipython",
    "version": 3
   },
   "file_extension": ".py",
   "mimetype": "text/x-python",
   "name": "python",
   "nbconvert_exporter": "python",
   "pygments_lexer": "ipython3",
   "version": "3.7.4"
  }
 },
 "nbformat": 4,
 "nbformat_minor": 0
}
